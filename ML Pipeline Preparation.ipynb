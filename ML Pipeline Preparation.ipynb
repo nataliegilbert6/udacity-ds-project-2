{
 "cells": [
  {
   "cell_type": "markdown",
   "metadata": {},
   "source": [
    "# ML Pipeline Preparation\n",
    "Follow the instructions below to help you create your ML pipeline.\n",
    "### 1. Import libraries and load data from database.\n",
    "- Import Python libraries\n",
    "- Load dataset from database with [`read_sql_table`](https://pandas.pydata.org/pandas-docs/stable/generated/pandas.read_sql_table.html)\n",
    "- Define feature and target variables X and Y"
   ]
  },
  {
   "cell_type": "code",
   "execution_count": 130,
   "metadata": {},
   "outputs": [
    {
     "name": "stdout",
     "output_type": "stream",
     "text": [
      "[nltk_data] Downloading package punkt to /root/nltk_data...\n",
      "[nltk_data]   Package punkt is already up-to-date!\n",
      "[nltk_data] Downloading package wordnet to /root/nltk_data...\n",
      "[nltk_data]   Package wordnet is already up-to-date!\n",
      "[nltk_data] Downloading package stopwords to /root/nltk_data...\n",
      "[nltk_data]   Package stopwords is already up-to-date!\n",
      "[nltk_data] Downloading package averaged_perceptron_tagger to\n",
      "[nltk_data]     /root/nltk_data...\n",
      "[nltk_data]   Package averaged_perceptron_tagger is already up-to-\n",
      "[nltk_data]       date!\n",
      "[nltk_data] Downloading package punkt to /root/nltk_data...\n",
      "[nltk_data]   Package punkt is already up-to-date!\n",
      "[nltk_data] Downloading package wordnet to /root/nltk_data...\n",
      "[nltk_data]   Package wordnet is already up-to-date!\n",
      "[nltk_data] Downloading package averaged_perceptron_tagger to\n",
      "[nltk_data]     /root/nltk_data...\n",
      "[nltk_data]   Package averaged_perceptron_tagger is already up-to-\n",
      "[nltk_data]       date!\n"
     ]
    }
   ],
   "source": [
    "# import libraries\n",
    "import nltk\n",
    "nltk.download(['punkt', 'wordnet', 'stopwords', 'averaged_perceptron_tagger'])\n",
    "\n",
    "from sqlalchemy import create_engine\n",
    "\n",
    "import re\n",
    "import numpy as np\n",
    "import pandas as pd\n",
    "import pickle\n",
    "from nltk.tokenize import word_tokenize\n",
    "from nltk.stem import WordNetLemmatizer\n",
    "\n",
    "from sklearn.metrics import confusion_matrix\n",
    "from sklearn.ensemble import RandomForestClassifier\n",
    "import nltk\n",
    "nltk.download(['punkt', 'wordnet', 'averaged_perceptron_tagger'])\n",
    "\n",
    "import re\n",
    "import numpy as np\n",
    "import pandas as pd\n",
    "from nltk.tokenize import word_tokenize\n",
    "from nltk.stem import WordNetLemmatizer\n",
    "\n",
    "from sklearn.metrics import confusion_matrix\n",
    "from sklearn.metrics import accuracy_score\n",
    "from sklearn.model_selection import GridSearchCV\n",
    "from sklearn.multioutput import MultiOutputClassifier\n",
    "from sklearn.metrics import classification_report\n",
    "from sklearn.model_selection import train_test_split\n",
    "from sklearn.pipeline import Pipeline, FeatureUnion\n",
    "from sklearn.base import BaseEstimator, TransformerMixin\n",
    "from sklearn.feature_extraction.text import CountVectorizer, TfidfTransformer"
   ]
  },
  {
   "cell_type": "code",
   "execution_count": 131,
   "metadata": {},
   "outputs": [],
   "source": [
    "# load data from database\n",
    "engine = create_engine('sqlite:///disasterResponse.db')\n",
    "df = pd.read_sql(\"SELECT * FROM disasterResponse\", engine)\n",
    "\n",
    "# related should be boolean, but it's not\n",
    "df['related'].replace(2,1, inplace=True)\n",
    "\n",
    "X = df.message.values\n",
    "#remove id, genre, message, and original\n",
    "Y = df[['related', 'request', 'offer',\n",
    "       'aid_related', 'medical_help', 'medical_products', 'search_and_rescue',\n",
    "       'security', 'military', 'child_alone', 'water', 'food', 'shelter',\n",
    "       'clothing', 'money', 'missing_people', 'refugees', 'death', 'other_aid',\n",
    "       'infrastructure_related', 'transport', 'buildings', 'electricity',\n",
    "       'tools', 'hospitals', 'shops', 'aid_centers', 'other_infrastructure',\n",
    "       'weather_related', 'floods', 'storm', 'fire', 'earthquake', 'cold',\n",
    "       'other_weather', 'direct_report']]"
   ]
  },
  {
   "cell_type": "code",
   "execution_count": 132,
   "metadata": {
    "scrolled": true
   },
   "outputs": [
    {
     "data": {
      "text/plain": [
       "1    20094\n",
       "0     6122\n",
       "Name: related, dtype: int64"
      ]
     },
     "execution_count": 132,
     "metadata": {},
     "output_type": "execute_result"
    }
   ],
   "source": [
    "#validate change in related column\n",
    "df.related.value_counts()"
   ]
  },
  {
   "cell_type": "markdown",
   "metadata": {},
   "source": [
    "### 2. Write a tokenization function to process your text data"
   ]
  },
  {
   "cell_type": "code",
   "execution_count": 133,
   "metadata": {},
   "outputs": [],
   "source": [
    "def tokenize(text):\n",
    "    url_regex = 'http[s]?://(?:[a-zA-Z]|[0-9]|[$-_@.&+]|[!*\\(\\),]|(?:%[0-9a-fA-F][0-9a-fA-F]))+'\n",
    "\n",
    "    detected_urls = re.findall(url_regex, text)\n",
    "    for url in detected_urls:\n",
    "        text = text.replace(url, \"urlplaceholder\")\n",
    "\n",
    "    tokens = word_tokenize(text)\n",
    "    lemmatizer = WordNetLemmatizer()\n",
    "\n",
    "    clean_tokens = []\n",
    "    for tok in tokens:\n",
    "        \n",
    "        #reduce words to root form\n",
    "        clean_tok = lemmatizer.lemmatize(tok).lower().strip()\n",
    "        \n",
    "        clean_tokens.append(clean_tok)\n",
    "\n",
    "    return clean_tokens"
   ]
  },
  {
   "cell_type": "markdown",
   "metadata": {},
   "source": [
    "### 3. Build a machine learning pipeline\n",
    "This machine pipeline should take in the `message` column as input and output classification results on the other 36 categories in the dataset. You may find the [MultiOutputClassifier](http://scikit-learn.org/stable/modules/generated/sklearn.multioutput.MultiOutputClassifier.html) helpful for predicting multiple target variables."
   ]
  },
  {
   "cell_type": "code",
   "execution_count": 134,
   "metadata": {},
   "outputs": [],
   "source": [
    "pipeline = Pipeline([\n",
    "    ('vect', CountVectorizer(tokenizer=tokenize)),\n",
    "    ('tfidf', TfidfTransformer()),\n",
    "    ('clf', RandomForestClassifier())\n",
    "])"
   ]
  },
  {
   "cell_type": "markdown",
   "metadata": {},
   "source": [
    "### 4. Train pipeline\n",
    "- Split data into train and test sets\n",
    "- Train pipeline"
   ]
  },
  {
   "cell_type": "code",
   "execution_count": 135,
   "metadata": {},
   "outputs": [
    {
     "data": {
      "text/plain": [
       "Pipeline(memory=None,\n",
       "     steps=[('vect', CountVectorizer(analyzer='word', binary=False, decode_error='strict',\n",
       "        dtype=<class 'numpy.int64'>, encoding='utf-8', input='content',\n",
       "        lowercase=True, max_df=1.0, max_features=None, min_df=1,\n",
       "        ngram_range=(1, 1), preprocessor=None, stop_words=None,\n",
       "        strip...n_jobs=1,\n",
       "            oob_score=False, random_state=None, verbose=0,\n",
       "            warm_start=False))])"
      ]
     },
     "execution_count": 135,
     "metadata": {},
     "output_type": "execute_result"
    }
   ],
   "source": [
    "# 1. Split\n",
    "X_train, X_test, Y_train, Y_test = train_test_split(X, Y, test_size=0.2)\n",
    "\n",
    "# 2. Train\n",
    "pipeline.fit(X_train, Y_train)"
   ]
  },
  {
   "cell_type": "markdown",
   "metadata": {},
   "source": [
    "### 5. Test your model\n",
    "Report the f1 score, precision and recall for each output category of the dataset. You can do this by iterating through the columns and calling sklearn's `classification_report` on each."
   ]
  },
  {
   "cell_type": "code",
   "execution_count": 136,
   "metadata": {},
   "outputs": [
    {
     "data": {
      "text/plain": [
       "array([[ 1.,  0.,  0., ...,  0.,  0.,  0.],\n",
       "       [ 1.,  0.,  0., ...,  0.,  0.,  0.],\n",
       "       [ 1.,  0.,  0., ...,  0.,  0.,  0.],\n",
       "       ..., \n",
       "       [ 1.,  0.,  0., ...,  0.,  0.,  0.],\n",
       "       [ 0.,  0.,  0., ...,  0.,  0.,  0.],\n",
       "       [ 1.,  0.,  0., ...,  0.,  0.,  0.]])"
      ]
     },
     "execution_count": 136,
     "metadata": {},
     "output_type": "execute_result"
    }
   ],
   "source": [
    "Y_pred = pipeline.predict(X_test)\n",
    "\n",
    "\n",
    "Y_pred"
   ]
  },
  {
   "cell_type": "code",
   "execution_count": 137,
   "metadata": {},
   "outputs": [
    {
     "name": "stdout",
     "output_type": "stream",
     "text": [
      "related\n",
      "             precision    recall  f1-score   support\n",
      "\n",
      "          0       0.59      0.43      0.50      1252\n",
      "          1       0.84      0.91      0.87      3992\n",
      "\n",
      "avg / total       0.78      0.79      0.78      5244\n",
      "\n",
      "request\n",
      "             precision    recall  f1-score   support\n",
      "\n",
      "          0       0.88      0.99      0.93      4328\n",
      "          1       0.85      0.38      0.52       916\n",
      "\n",
      "avg / total       0.88      0.88      0.86      5244\n",
      "\n",
      "offer\n",
      "             precision    recall  f1-score   support\n",
      "\n",
      "          0       1.00      1.00      1.00      5220\n",
      "          1       0.00      0.00      0.00        24\n",
      "\n",
      "avg / total       0.99      1.00      0.99      5244\n",
      "\n",
      "aid_related\n",
      "             precision    recall  f1-score   support\n",
      "\n",
      "          0       0.69      0.91      0.79      3085\n",
      "          1       0.76      0.43      0.55      2159\n",
      "\n",
      "avg / total       0.72      0.71      0.69      5244\n",
      "\n",
      "medical_help\n",
      "             precision    recall  f1-score   support\n",
      "\n",
      "          0       0.93      1.00      0.96      4852\n",
      "          1       0.47      0.02      0.04       392\n",
      "\n",
      "avg / total       0.89      0.93      0.89      5244\n",
      "\n",
      "medical_products\n",
      "             precision    recall  f1-score   support\n",
      "\n",
      "          0       0.96      1.00      0.98      5002\n",
      "          1       0.50      0.03      0.05       242\n",
      "\n",
      "avg / total       0.93      0.95      0.93      5244\n",
      "\n",
      "search_and_rescue\n",
      "             precision    recall  f1-score   support\n",
      "\n",
      "          0       0.97      1.00      0.99      5097\n",
      "          1       0.50      0.01      0.01       147\n",
      "\n",
      "avg / total       0.96      0.97      0.96      5244\n",
      "\n",
      "security\n",
      "             precision    recall  f1-score   support\n",
      "\n",
      "          0       0.98      1.00      0.99      5150\n",
      "          1       0.00      0.00      0.00        94\n",
      "\n",
      "avg / total       0.96      0.98      0.97      5244\n",
      "\n",
      "military\n",
      "             precision    recall  f1-score   support\n",
      "\n",
      "          0       0.97      1.00      0.98      5063\n",
      "          1       0.00      0.00      0.00       181\n",
      "\n",
      "avg / total       0.93      0.97      0.95      5244\n",
      "\n",
      "child_alone\n",
      "             precision    recall  f1-score   support\n",
      "\n",
      "          0       1.00      1.00      1.00      5244\n",
      "\n",
      "avg / total       1.00      1.00      1.00      5244\n",
      "\n",
      "water\n",
      "             precision    recall  f1-score   support\n",
      "\n",
      "          0       0.95      1.00      0.97      4920\n",
      "          1       0.91      0.13      0.23       324\n",
      "\n",
      "avg / total       0.94      0.95      0.93      5244\n",
      "\n",
      "food\n",
      "             precision    recall  f1-score   support\n",
      "\n",
      "          0       0.91      1.00      0.95      4656\n",
      "          1       0.86      0.23      0.37       588\n",
      "\n",
      "avg / total       0.91      0.91      0.89      5244\n",
      "\n",
      "shelter\n",
      "             precision    recall  f1-score   support\n",
      "\n",
      "          0       0.93      1.00      0.96      4803\n",
      "          1       0.90      0.15      0.25       441\n",
      "\n",
      "avg / total       0.93      0.93      0.90      5244\n",
      "\n",
      "clothing\n",
      "             precision    recall  f1-score   support\n",
      "\n",
      "          0       0.99      1.00      0.99      5171\n",
      "          1       0.67      0.05      0.10        73\n",
      "\n",
      "avg / total       0.98      0.99      0.98      5244\n",
      "\n",
      "money\n",
      "             precision    recall  f1-score   support\n",
      "\n",
      "          0       0.98      1.00      0.99      5126\n",
      "          1       0.80      0.03      0.07       118\n",
      "\n",
      "avg / total       0.97      0.98      0.97      5244\n",
      "\n",
      "missing_people\n",
      "             precision    recall  f1-score   support\n",
      "\n",
      "          0       0.99      1.00      0.99      5186\n",
      "          1       1.00      0.02      0.03        58\n",
      "\n",
      "avg / total       0.99      0.99      0.98      5244\n",
      "\n",
      "refugees\n",
      "             precision    recall  f1-score   support\n",
      "\n",
      "          0       0.97      1.00      0.98      5065\n",
      "          1       1.00      0.02      0.03       179\n",
      "\n",
      "avg / total       0.97      0.97      0.95      5244\n",
      "\n",
      "death\n",
      "             precision    recall  f1-score   support\n",
      "\n",
      "          0       0.96      1.00      0.98      5025\n",
      "          1       0.75      0.03      0.05       219\n",
      "\n",
      "avg / total       0.95      0.96      0.94      5244\n",
      "\n",
      "other_aid\n",
      "             precision    recall  f1-score   support\n",
      "\n",
      "          0       0.87      1.00      0.93      4530\n",
      "          1       0.54      0.02      0.04       714\n",
      "\n",
      "avg / total       0.82      0.86      0.81      5244\n",
      "\n",
      "infrastructure_related\n",
      "             precision    recall  f1-score   support\n",
      "\n",
      "          0       0.94      1.00      0.97      4918\n",
      "          1       0.00      0.00      0.00       326\n",
      "\n",
      "avg / total       0.88      0.94      0.91      5244\n",
      "\n",
      "transport\n",
      "             precision    recall  f1-score   support\n",
      "\n",
      "          0       0.96      1.00      0.98      5015\n",
      "          1       0.38      0.01      0.03       229\n",
      "\n",
      "avg / total       0.93      0.96      0.94      5244\n",
      "\n",
      "buildings\n",
      "             precision    recall  f1-score   support\n",
      "\n",
      "          0       0.95      1.00      0.97      4984\n",
      "          1       0.64      0.03      0.05       260\n",
      "\n",
      "avg / total       0.94      0.95      0.93      5244\n",
      "\n",
      "electricity\n",
      "             precision    recall  f1-score   support\n",
      "\n",
      "          0       0.98      1.00      0.99      5136\n",
      "          1       0.00      0.00      0.00       108\n",
      "\n",
      "avg / total       0.96      0.98      0.97      5244\n",
      "\n",
      "tools\n",
      "             precision    recall  f1-score   support\n",
      "\n",
      "          0       0.99      1.00      1.00      5214\n",
      "          1       0.00      0.00      0.00        30\n",
      "\n",
      "avg / total       0.99      0.99      0.99      5244\n",
      "\n",
      "hospitals\n",
      "             precision    recall  f1-score   support\n",
      "\n",
      "          0       0.99      1.00      0.99      5191\n",
      "          1       0.00      0.00      0.00        53\n",
      "\n",
      "avg / total       0.98      0.99      0.98      5244\n",
      "\n",
      "shops\n",
      "             precision    recall  f1-score   support\n",
      "\n",
      "          0       1.00      1.00      1.00      5219\n",
      "          1       0.00      0.00      0.00        25\n",
      "\n",
      "avg / total       0.99      1.00      0.99      5244\n",
      "\n",
      "aid_centers\n",
      "             precision    recall  f1-score   support\n",
      "\n",
      "          0       0.99      1.00      0.99      5191\n",
      "          1       0.00      0.00      0.00        53\n",
      "\n",
      "avg / total       0.98      0.99      0.98      5244\n",
      "\n",
      "other_infrastructure\n",
      "             precision    recall  f1-score   support\n",
      "\n",
      "          0       0.96      1.00      0.98      5026\n",
      "          1       0.00      0.00      0.00       218\n",
      "\n",
      "avg / total       0.92      0.96      0.94      5244\n",
      "\n",
      "weather_related\n",
      "             precision    recall  f1-score   support\n",
      "\n",
      "          0       0.81      0.97      0.88      3807\n",
      "          1       0.84      0.38      0.52      1437\n",
      "\n",
      "avg / total       0.81      0.81      0.78      5244\n",
      "\n",
      "floods\n",
      "             precision    recall  f1-score   support\n",
      "\n",
      "          0       0.93      1.00      0.96      4839\n",
      "          1       0.83      0.10      0.18       405\n",
      "\n",
      "avg / total       0.92      0.93      0.90      5244\n",
      "\n",
      "storm\n",
      "             precision    recall  f1-score   support\n",
      "\n",
      "          0       0.92      0.99      0.96      4767\n",
      "          1       0.74      0.16      0.27       477\n",
      "\n",
      "avg / total       0.91      0.92      0.89      5244\n",
      "\n",
      "fire\n",
      "             precision    recall  f1-score   support\n",
      "\n",
      "          0       0.99      1.00      0.99      5183\n",
      "          1       0.00      0.00      0.00        61\n",
      "\n",
      "avg / total       0.98      0.99      0.98      5244\n",
      "\n",
      "earthquake\n",
      "             precision    recall  f1-score   support\n",
      "\n",
      "          0       0.94      1.00      0.97      4748\n",
      "          1       0.91      0.36      0.52       496\n",
      "\n",
      "avg / total       0.94      0.94      0.92      5244\n",
      "\n",
      "cold\n",
      "             precision    recall  f1-score   support\n",
      "\n",
      "          0       0.98      1.00      0.99      5151\n",
      "          1       1.00      0.01      0.02        93\n",
      "\n",
      "avg / total       0.98      0.98      0.97      5244\n",
      "\n",
      "other_weather\n",
      "             precision    recall  f1-score   support\n",
      "\n",
      "          0       0.95      1.00      0.97      4965\n",
      "          1       0.50      0.01      0.03       279\n",
      "\n",
      "avg / total       0.92      0.95      0.92      5244\n",
      "\n",
      "direct_report\n",
      "             precision    recall  f1-score   support\n",
      "\n",
      "          0       0.86      0.98      0.91      4213\n",
      "          1       0.81      0.33      0.47      1031\n",
      "\n",
      "avg / total       0.85      0.85      0.83      5244\n",
      "\n"
     ]
    },
    {
     "name": "stderr",
     "output_type": "stream",
     "text": [
      "/opt/conda/lib/python3.6/site-packages/sklearn/metrics/classification.py:1135: UndefinedMetricWarning: Precision and F-score are ill-defined and being set to 0.0 in labels with no predicted samples.\n",
      "  'precision', 'predicted', average, warn_for)\n"
     ]
    }
   ],
   "source": [
    "# run a classification report on each column\n",
    "for index, col in enumerate(Y.columns):\n",
    "    print(col)\n",
    "    print(classification_report(Y_test[col], Y_pred[:,index]))"
   ]
  },
  {
   "cell_type": "markdown",
   "metadata": {},
   "source": [
    "### 6. Improve your model\n",
    "Use grid search to find better parameters. "
   ]
  },
  {
   "cell_type": "code",
   "execution_count": 138,
   "metadata": {},
   "outputs": [
    {
     "data": {
      "text/plain": [
       "<bound method Pipeline.get_params of Pipeline(memory=None,\n",
       "     steps=[('vect', CountVectorizer(analyzer='word', binary=False, decode_error='strict',\n",
       "        dtype=<class 'numpy.int64'>, encoding='utf-8', input='content',\n",
       "        lowercase=True, max_df=1.0, max_features=None, min_df=1,\n",
       "        ngram_range=(1, 1), preprocessor=None, stop_words=None,\n",
       "        strip...n_jobs=1,\n",
       "            oob_score=False, random_state=None, verbose=0,\n",
       "            warm_start=False))])>"
      ]
     },
     "execution_count": 138,
     "metadata": {},
     "output_type": "execute_result"
    }
   ],
   "source": [
    "# lookup current parameters\n",
    "pipeline.get_params"
   ]
  },
  {
   "cell_type": "code",
   "execution_count": 139,
   "metadata": {},
   "outputs": [
    {
     "name": "stdout",
     "output_type": "stream",
     "text": [
      "Fitting 3 folds for each of 9 candidates, totalling 27 fits\n",
      "[CV] clf__min_samples_split=2, clf__n_estimators=50 ..................\n",
      "[CV]  clf__min_samples_split=2, clf__n_estimators=50, score=0.25418395079387784, total= 1.1min\n",
      "[CV] clf__min_samples_split=2, clf__n_estimators=50 ..................\n"
     ]
    },
    {
     "name": "stderr",
     "output_type": "stream",
     "text": [
      "[Parallel(n_jobs=1)]: Done   1 out of   1 | elapsed:  1.3min remaining:    0.0s\n"
     ]
    },
    {
     "name": "stdout",
     "output_type": "stream",
     "text": [
      "[CV]  clf__min_samples_split=2, clf__n_estimators=50, score=0.2676298097553998, total= 1.0min\n",
      "[CV] clf__min_samples_split=2, clf__n_estimators=50 ..................\n"
     ]
    },
    {
     "name": "stderr",
     "output_type": "stream",
     "text": [
      "[Parallel(n_jobs=1)]: Done   2 out of   2 | elapsed:  2.4min remaining:    0.0s\n"
     ]
    },
    {
     "name": "stdout",
     "output_type": "stream",
     "text": [
      "[CV]  clf__min_samples_split=2, clf__n_estimators=50, score=0.25336194563662373, total=  59.2s\n",
      "[CV] clf__min_samples_split=2, clf__n_estimators=100 .................\n"
     ]
    },
    {
     "name": "stderr",
     "output_type": "stream",
     "text": [
      "[Parallel(n_jobs=1)]: Done   3 out of   3 | elapsed:  3.6min remaining:    0.0s\n"
     ]
    },
    {
     "name": "stdout",
     "output_type": "stream",
     "text": [
      "[CV]  clf__min_samples_split=2, clf__n_estimators=100, score=0.2567586897439565, total= 1.8min\n",
      "[CV] clf__min_samples_split=2, clf__n_estimators=100 .................\n"
     ]
    },
    {
     "name": "stderr",
     "output_type": "stream",
     "text": [
      "[Parallel(n_jobs=1)]: Done   4 out of   4 | elapsed:  5.6min remaining:    0.0s\n"
     ]
    },
    {
     "name": "stdout",
     "output_type": "stream",
     "text": [
      "[CV]  clf__min_samples_split=2, clf__n_estimators=100, score=0.26519811185810327, total= 1.8min\n",
      "[CV] clf__min_samples_split=2, clf__n_estimators=100 .................\n"
     ]
    },
    {
     "name": "stderr",
     "output_type": "stream",
     "text": [
      "[Parallel(n_jobs=1)]: Done   5 out of   5 | elapsed:  7.6min remaining:    0.0s\n"
     ]
    },
    {
     "name": "stdout",
     "output_type": "stream",
     "text": [
      "[CV]  clf__min_samples_split=2, clf__n_estimators=100, score=0.25350500715307583, total= 1.8min\n",
      "[CV] clf__min_samples_split=2, clf__n_estimators=200 .................\n"
     ]
    },
    {
     "name": "stderr",
     "output_type": "stream",
     "text": [
      "[Parallel(n_jobs=1)]: Done   6 out of   6 | elapsed:  9.6min remaining:    0.0s\n"
     ]
    },
    {
     "name": "stdout",
     "output_type": "stream",
     "text": [
      "[CV]  clf__min_samples_split=2, clf__n_estimators=200, score=0.25461307395222427, total= 3.4min\n",
      "[CV] clf__min_samples_split=2, clf__n_estimators=200 .................\n"
     ]
    },
    {
     "name": "stderr",
     "output_type": "stream",
     "text": [
      "[Parallel(n_jobs=1)]: Done   7 out of   7 | elapsed: 13.3min remaining:    0.0s\n"
     ]
    },
    {
     "name": "stdout",
     "output_type": "stream",
     "text": [
      "[CV]  clf__min_samples_split=2, clf__n_estimators=200, score=0.2706336718638249, total= 3.4min\n",
      "[CV] clf__min_samples_split=2, clf__n_estimators=200 .................\n"
     ]
    },
    {
     "name": "stderr",
     "output_type": "stream",
     "text": [
      "[Parallel(n_jobs=1)]: Done   8 out of   8 | elapsed: 17.0min remaining:    0.0s\n"
     ]
    },
    {
     "name": "stdout",
     "output_type": "stream",
     "text": [
      "[CV]  clf__min_samples_split=2, clf__n_estimators=200, score=0.25236051502145923, total= 3.4min\n",
      "[CV] clf__min_samples_split=3, clf__n_estimators=50 ..................\n"
     ]
    },
    {
     "name": "stderr",
     "output_type": "stream",
     "text": [
      "[Parallel(n_jobs=1)]: Done   9 out of   9 | elapsed: 20.7min remaining:    0.0s\n"
     ]
    },
    {
     "name": "stdout",
     "output_type": "stream",
     "text": [
      "[CV]  clf__min_samples_split=3, clf__n_estimators=50, score=0.2531826634244028, total=  51.4s\n",
      "[CV] clf__min_samples_split=3, clf__n_estimators=50 ..................\n",
      "[CV]  clf__min_samples_split=3, clf__n_estimators=50, score=0.26448290659419255, total=  52.1s\n",
      "[CV] clf__min_samples_split=3, clf__n_estimators=50 ..................\n",
      "[CV]  clf__min_samples_split=3, clf__n_estimators=50, score=0.25293276108726753, total=  52.5s\n",
      "[CV] clf__min_samples_split=3, clf__n_estimators=100 .................\n",
      "[CV]  clf__min_samples_split=3, clf__n_estimators=100, score=0.250464883421542, total= 1.6min\n",
      "[CV] clf__min_samples_split=3, clf__n_estimators=100 .................\n",
      "[CV]  clf__min_samples_split=3, clf__n_estimators=100, score=0.2723501644972107, total= 1.6min\n",
      "[CV] clf__min_samples_split=3, clf__n_estimators=100 .................\n",
      "[CV]  clf__min_samples_split=3, clf__n_estimators=100, score=0.25178826895565093, total= 1.5min\n",
      "[CV] clf__min_samples_split=3, clf__n_estimators=200 .................\n",
      "[CV]  clf__min_samples_split=3, clf__n_estimators=200, score=0.2534687455299671, total= 2.9min\n",
      "[CV] clf__min_samples_split=3, clf__n_estimators=200 .................\n",
      "[CV]  clf__min_samples_split=3, clf__n_estimators=200, score=0.268774138177657, total= 2.9min\n",
      "[CV] clf__min_samples_split=3, clf__n_estimators=200 .................\n",
      "[CV]  clf__min_samples_split=3, clf__n_estimators=200, score=0.25236051502145923, total= 2.9min\n",
      "[CV] clf__min_samples_split=4, clf__n_estimators=50 ..................\n",
      "[CV]  clf__min_samples_split=4, clf__n_estimators=50, score=0.25432699184665997, total=  48.9s\n",
      "[CV] clf__min_samples_split=4, clf__n_estimators=50 ..................\n",
      "[CV]  clf__min_samples_split=4, clf__n_estimators=50, score=0.26190816764411384, total=  48.1s\n",
      "[CV] clf__min_samples_split=4, clf__n_estimators=50 ..................\n",
      "[CV]  clf__min_samples_split=4, clf__n_estimators=50, score=0.24363376251788268, total=  48.3s\n",
      "[CV] clf__min_samples_split=4, clf__n_estimators=100 .................\n",
      "[CV]  clf__min_samples_split=4, clf__n_estimators=100, score=0.25246745816049204, total= 1.4min\n",
      "[CV] clf__min_samples_split=4, clf__n_estimators=100 .................\n",
      "[CV]  clf__min_samples_split=4, clf__n_estimators=100, score=0.2626233729080246, total= 1.4min\n",
      "[CV] clf__min_samples_split=4, clf__n_estimators=100 .................\n",
      "[CV]  clf__min_samples_split=4, clf__n_estimators=100, score=0.2440629470672389, total= 1.3min\n",
      "[CV] clf__min_samples_split=4, clf__n_estimators=200 .................\n",
      "[CV]  clf__min_samples_split=4, clf__n_estimators=200, score=0.2501788013159777, total= 2.5min\n",
      "[CV] clf__min_samples_split=4, clf__n_estimators=200 .................\n",
      "[CV]  clf__min_samples_split=4, clf__n_estimators=200, score=0.26376770133028177, total= 2.5min\n",
      "[CV] clf__min_samples_split=4, clf__n_estimators=200 .................\n",
      "[CV]  clf__min_samples_split=4, clf__n_estimators=200, score=0.24549356223175967, total= 2.5min\n"
     ]
    },
    {
     "name": "stderr",
     "output_type": "stream",
     "text": [
      "[Parallel(n_jobs=1)]: Done  27 out of  27 | elapsed: 54.5min finished\n"
     ]
    },
    {
     "data": {
      "text/plain": [
       "GridSearchCV(cv=None, error_score='raise',\n",
       "       estimator=Pipeline(memory=None,\n",
       "     steps=[('vect', CountVectorizer(analyzer='word', binary=False, decode_error='strict',\n",
       "        dtype=<class 'numpy.int64'>, encoding='utf-8', input='content',\n",
       "        lowercase=True, max_df=1.0, max_features=None, min_df=1,\n",
       "        ngram_range=(1, 1), preprocessor=None, stop_words=None,\n",
       "        strip...n_jobs=1,\n",
       "            oob_score=False, random_state=None, verbose=0,\n",
       "            warm_start=False))]),\n",
       "       fit_params=None, iid=True, n_jobs=1,\n",
       "       param_grid={'clf__n_estimators': [50, 100, 200], 'clf__min_samples_split': [2, 3, 4]},\n",
       "       pre_dispatch='2*n_jobs', refit=True, return_train_score='warn',\n",
       "       scoring=None, verbose=10)"
      ]
     },
     "execution_count": 139,
     "metadata": {},
     "output_type": "execute_result"
    }
   ],
   "source": [
    "#lets add a couple of new hyperparameters\n",
    "parameters = {\n",
    "    'clf__n_estimators': [50, 100, 200],\n",
    "    'clf__min_samples_split': [2, 3, 4]\n",
    "}\n",
    "\n",
    "\n",
    "cv = GridSearchCV(pipeline, param_grid=parameters, verbose=10)\n",
    "cv.fit(X_train, Y_train)"
   ]
  },
  {
   "cell_type": "code",
   "execution_count": 140,
   "metadata": {},
   "outputs": [
    {
     "data": {
      "text/plain": [
       "1    16102\n",
       "0     4870\n",
       "Name: related, dtype: int64"
      ]
     },
     "execution_count": 140,
     "metadata": {},
     "output_type": "execute_result"
    }
   ],
   "source": [
    "Y_train.related.value_counts()"
   ]
  },
  {
   "cell_type": "markdown",
   "metadata": {},
   "source": [
    "### 7. Test your model\n",
    "Show the accuracy, precision, and recall of the tuned model.  \n",
    "\n",
    "Since this project focuses on code quality, process, and  pipelines, there is no minimum performance metric needed to pass. However, make sure to fine tune your models for accuracy, precision and recall to make your project stand out - especially for your portfolio!"
   ]
  },
  {
   "cell_type": "code",
   "execution_count": 141,
   "metadata": {},
   "outputs": [],
   "source": [
    "Y_pred = cv.predict(X_test)"
   ]
  },
  {
   "cell_type": "code",
   "execution_count": 142,
   "metadata": {},
   "outputs": [
    {
     "name": "stdout",
     "output_type": "stream",
     "text": [
      "related\n",
      "             precision    recall  f1-score   support\n",
      "\n",
      "          0       0.71      0.33      0.45      1252\n",
      "          1       0.82      0.96      0.88      3992\n",
      "\n",
      "avg / total       0.79      0.81      0.78      5244\n",
      "\n",
      "request\n",
      "             precision    recall  f1-score   support\n",
      "\n",
      "          0       0.89      0.99      0.94      4328\n",
      "          1       0.90      0.43      0.58       916\n",
      "\n",
      "avg / total       0.89      0.89      0.88      5244\n",
      "\n",
      "offer\n",
      "             precision    recall  f1-score   support\n",
      "\n",
      "          0       1.00      1.00      1.00      5220\n",
      "          1       0.00      0.00      0.00        24\n",
      "\n",
      "avg / total       0.99      1.00      0.99      5244\n",
      "\n",
      "aid_related\n",
      "             precision    recall  f1-score   support\n",
      "\n",
      "          0       0.73      0.93      0.82      3085\n",
      "          1       0.83      0.50      0.63      2159\n",
      "\n",
      "avg / total       0.77      0.75      0.74      5244\n",
      "\n",
      "medical_help\n",
      "             precision    recall  f1-score   support\n",
      "\n",
      "          0       0.93      1.00      0.96      4852\n",
      "          1       0.17      0.00      0.01       392\n",
      "\n",
      "avg / total       0.87      0.92      0.89      5244\n",
      "\n",
      "medical_products\n",
      "             precision    recall  f1-score   support\n",
      "\n",
      "          0       0.95      1.00      0.98      5002\n",
      "          1       0.29      0.01      0.02       242\n",
      "\n",
      "avg / total       0.92      0.95      0.93      5244\n",
      "\n",
      "search_and_rescue\n",
      "             precision    recall  f1-score   support\n",
      "\n",
      "          0       0.97      1.00      0.99      5097\n",
      "          1       1.00      0.01      0.01       147\n",
      "\n",
      "avg / total       0.97      0.97      0.96      5244\n",
      "\n",
      "security\n",
      "             precision    recall  f1-score   support\n",
      "\n",
      "          0       0.98      1.00      0.99      5150\n",
      "          1       0.00      0.00      0.00        94\n",
      "\n",
      "avg / total       0.96      0.98      0.97      5244\n",
      "\n",
      "military\n",
      "             precision    recall  f1-score   support\n",
      "\n",
      "          0       0.97      1.00      0.98      5063\n",
      "          1       0.00      0.00      0.00       181\n",
      "\n",
      "avg / total       0.93      0.97      0.95      5244\n",
      "\n",
      "child_alone\n",
      "             precision    recall  f1-score   support\n",
      "\n",
      "          0       1.00      1.00      1.00      5244\n",
      "\n",
      "avg / total       1.00      1.00      1.00      5244\n",
      "\n",
      "water\n",
      "             precision    recall  f1-score   support\n",
      "\n",
      "          0       0.95      1.00      0.97      4920\n",
      "          1       0.98      0.15      0.26       324\n",
      "\n",
      "avg / total       0.95      0.95      0.93      5244\n",
      "\n",
      "food\n",
      "             precision    recall  f1-score   support\n",
      "\n",
      "          0       0.92      0.99      0.95      4656\n",
      "          1       0.85      0.27      0.41       588\n",
      "\n",
      "avg / total       0.91      0.91      0.89      5244\n",
      "\n",
      "shelter\n",
      "             precision    recall  f1-score   support\n",
      "\n",
      "          0       0.92      1.00      0.96      4803\n",
      "          1       0.89      0.09      0.17       441\n",
      "\n",
      "avg / total       0.92      0.92      0.89      5244\n",
      "\n",
      "clothing\n",
      "             precision    recall  f1-score   support\n",
      "\n",
      "          0       0.99      1.00      0.99      5171\n",
      "          1       0.50      0.03      0.05        73\n",
      "\n",
      "avg / total       0.98      0.99      0.98      5244\n",
      "\n",
      "money\n",
      "             precision    recall  f1-score   support\n",
      "\n",
      "          0       0.98      1.00      0.99      5126\n",
      "          1       0.67      0.02      0.03       118\n",
      "\n",
      "avg / total       0.97      0.98      0.97      5244\n",
      "\n",
      "missing_people\n",
      "             precision    recall  f1-score   support\n",
      "\n",
      "          0       0.99      1.00      0.99      5186\n",
      "          1       1.00      0.02      0.03        58\n",
      "\n",
      "avg / total       0.99      0.99      0.98      5244\n",
      "\n",
      "refugees\n",
      "             precision    recall  f1-score   support\n",
      "\n",
      "          0       0.97      1.00      0.98      5065\n",
      "          1       0.00      0.00      0.00       179\n",
      "\n",
      "avg / total       0.93      0.97      0.95      5244\n",
      "\n",
      "death\n",
      "             precision    recall  f1-score   support\n",
      "\n",
      "          0       0.96      1.00      0.98      5025\n",
      "          1       0.80      0.02      0.04       219\n",
      "\n",
      "avg / total       0.95      0.96      0.94      5244\n",
      "\n",
      "other_aid\n",
      "             precision    recall  f1-score   support\n",
      "\n",
      "          0       0.87      1.00      0.93      4530\n",
      "          1       0.67      0.01      0.02       714\n",
      "\n",
      "avg / total       0.84      0.86      0.80      5244\n",
      "\n",
      "infrastructure_related\n",
      "             precision    recall  f1-score   support\n",
      "\n",
      "          0       0.94      1.00      0.97      4918\n",
      "          1       0.00      0.00      0.00       326\n",
      "\n",
      "avg / total       0.88      0.94      0.91      5244\n",
      "\n",
      "transport\n",
      "             precision    recall  f1-score   support\n",
      "\n",
      "          0       0.96      1.00      0.98      5015\n",
      "          1       0.00      0.00      0.00       229\n",
      "\n",
      "avg / total       0.91      0.96      0.93      5244\n",
      "\n",
      "buildings\n",
      "             precision    recall  f1-score   support\n",
      "\n",
      "          0       0.95      1.00      0.97      4984\n",
      "          1       0.50      0.00      0.01       260\n",
      "\n",
      "avg / total       0.93      0.95      0.93      5244\n",
      "\n",
      "electricity\n",
      "             precision    recall  f1-score   support\n",
      "\n",
      "          0       0.98      1.00      0.99      5136\n",
      "          1       0.00      0.00      0.00       108\n",
      "\n",
      "avg / total       0.96      0.98      0.97      5244\n",
      "\n",
      "tools\n",
      "             precision    recall  f1-score   support\n",
      "\n",
      "          0       0.99      1.00      1.00      5214\n",
      "          1       0.00      0.00      0.00        30\n",
      "\n",
      "avg / total       0.99      0.99      0.99      5244\n",
      "\n",
      "hospitals\n",
      "             precision    recall  f1-score   support\n",
      "\n",
      "          0       0.99      1.00      0.99      5191\n",
      "          1       0.00      0.00      0.00        53\n",
      "\n",
      "avg / total       0.98      0.99      0.98      5244\n",
      "\n",
      "shops\n",
      "             precision    recall  f1-score   support\n",
      "\n",
      "          0       1.00      1.00      1.00      5219\n",
      "          1       0.00      0.00      0.00        25\n",
      "\n",
      "avg / total       0.99      1.00      0.99      5244\n",
      "\n",
      "aid_centers\n",
      "             precision    recall  f1-score   support\n",
      "\n",
      "          0       0.99      1.00      0.99      5191\n",
      "          1       0.00      0.00      0.00        53\n",
      "\n",
      "avg / total       0.98      0.99      0.98      5244\n",
      "\n",
      "other_infrastructure\n",
      "             precision    recall  f1-score   support\n",
      "\n",
      "          0       0.96      1.00      0.98      5026\n",
      "          1       0.00      0.00      0.00       218\n",
      "\n",
      "avg / total       0.92      0.96      0.94      5244\n",
      "\n",
      "weather_related\n",
      "             precision    recall  f1-score   support\n",
      "\n",
      "          0       0.83      0.98      0.90      3807\n",
      "          1       0.89      0.48      0.63      1437\n",
      "\n",
      "avg / total       0.85      0.84      0.82      5244\n",
      "\n",
      "floods\n",
      "             precision    recall  f1-score   support\n",
      "\n",
      "          0       0.93      1.00      0.97      4839\n",
      "          1       0.87      0.17      0.28       405\n",
      "\n",
      "avg / total       0.93      0.93      0.91      5244\n",
      "\n",
      "storm\n",
      "             precision    recall  f1-score   support\n",
      "\n",
      "          0       0.92      0.99      0.96      4767\n",
      "          1       0.73      0.17      0.28       477\n",
      "\n",
      "avg / total       0.91      0.92      0.90      5244\n",
      "\n",
      "fire\n",
      "             precision    recall  f1-score   support\n",
      "\n",
      "          0       0.99      1.00      0.99      5183\n",
      "          1       0.00      0.00      0.00        61\n",
      "\n",
      "avg / total       0.98      0.99      0.98      5244\n",
      "\n",
      "earthquake\n",
      "             precision    recall  f1-score   support\n",
      "\n",
      "          0       0.94      1.00      0.97      4748\n",
      "          1       0.90      0.42      0.57       496\n",
      "\n",
      "avg / total       0.94      0.94      0.93      5244\n",
      "\n",
      "cold\n",
      "             precision    recall  f1-score   support\n",
      "\n",
      "          0       0.98      1.00      0.99      5151\n",
      "          1       0.00      0.00      0.00        93\n",
      "\n",
      "avg / total       0.96      0.98      0.97      5244\n",
      "\n",
      "other_weather\n",
      "             precision    recall  f1-score   support\n",
      "\n",
      "          0       0.95      1.00      0.97      4965\n",
      "          1       0.50      0.00      0.01       279\n",
      "\n",
      "avg / total       0.92      0.95      0.92      5244\n",
      "\n",
      "direct_report\n",
      "             precision    recall  f1-score   support\n",
      "\n",
      "          0       0.86      0.99      0.92      4213\n",
      "          1       0.86      0.35      0.50      1031\n",
      "\n",
      "avg / total       0.86      0.86      0.84      5244\n",
      "\n"
     ]
    },
    {
     "name": "stderr",
     "output_type": "stream",
     "text": [
      "/opt/conda/lib/python3.6/site-packages/sklearn/metrics/classification.py:1135: UndefinedMetricWarning: Precision and F-score are ill-defined and being set to 0.0 in labels with no predicted samples.\n",
      "  'precision', 'predicted', average, warn_for)\n"
     ]
    }
   ],
   "source": [
    "# run a classification report on each column\n",
    "for index, col in enumerate(Y.columns):\n",
    "    print(col)\n",
    "    print(classification_report(Y_test[col], Y_pred[:,index]))"
   ]
  },
  {
   "cell_type": "markdown",
   "metadata": {},
   "source": [
    "### 8. Try improving your model further. Here are a few ideas:\n",
    "* try other machine learning algorithms\n",
    "* add other features besides the TF-IDF"
   ]
  },
  {
   "cell_type": "code",
   "execution_count": null,
   "metadata": {},
   "outputs": [],
   "source": []
  },
  {
   "cell_type": "markdown",
   "metadata": {},
   "source": [
    "### 9. Export your model as a pickle file"
   ]
  },
  {
   "cell_type": "code",
   "execution_count": null,
   "metadata": {},
   "outputs": [],
   "source": [
    "pickle.dump(cv, open('model.pkl','wb'))"
   ]
  },
  {
   "cell_type": "markdown",
   "metadata": {},
   "source": [
    "### 10. Use this notebook to complete `train.py`\n",
    "Use the template file attached in the Resources folder to write a script that runs the steps above to create a database and export a model based on a new dataset specified by the user."
   ]
  },
  {
   "cell_type": "code",
   "execution_count": null,
   "metadata": {},
   "outputs": [],
   "source": []
  }
 ],
 "metadata": {
  "kernelspec": {
   "display_name": "Python 3",
   "language": "python",
   "name": "python3"
  },
  "language_info": {
   "codemirror_mode": {
    "name": "ipython",
    "version": 3
   },
   "file_extension": ".py",
   "mimetype": "text/x-python",
   "name": "python",
   "nbconvert_exporter": "python",
   "pygments_lexer": "ipython3",
   "version": "3.6.3"
  }
 },
 "nbformat": 4,
 "nbformat_minor": 2
}
